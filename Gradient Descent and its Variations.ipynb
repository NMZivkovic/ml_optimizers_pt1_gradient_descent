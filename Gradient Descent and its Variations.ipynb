{
 "cells": [
  {
   "cell_type": "markdown",
   "metadata": {},
   "source": [
    "## Gradient Descent and its Variations"
   ]
  },
  {
   "cell_type": "code",
   "execution_count": 1,
   "metadata": {},
   "outputs": [],
   "source": [
    "import pandas as pd\n",
    "import numpy as np\n",
    "import matplotlib.pyplot as plt\n",
    "\n",
    "from sklearn.model_selection import train_test_split\n",
    "from sklearn.metrics import mean_squared_error\n",
    "from sklearn.preprocessing import StandardScaler\n",
    "from sklearn.linear_model import SGDRegressor"
   ]
  },
  {
   "cell_type": "code",
   "execution_count": 2,
   "metadata": {},
   "outputs": [
    {
     "data": {
      "image/png": "[encoded data removed]",
      "text/plain": [
       "<Figure size 432x288 with 1 Axes>"
      ]
     },
     "metadata": {
      "needs_background": "light"
     },
     "output_type": "display_data"
    }
   ],
   "source": [
    "data = pd.read_csv('./data/boston_housing.csv')\n",
    "scaler = StandardScaler()\n",
    "\n",
    "data = data.dropna()\n",
    "\n",
    "X = data['lstat'].values\n",
    "X = X.reshape(-1, 1)\n",
    "X = scaler.fit_transform(X)\n",
    "\n",
    "y = data['medv'].values\n",
    "y = y.reshape(-1, 1)\n",
    "y = scaler.fit_transform(y)\n",
    "\n",
    "X_train, X_test, y_train, y_test = train_test_split(X, y, test_size=0.2, random_state=33)\n",
    "\n",
    "plt.scatter(x = X, y = y, color='orange')\n",
    "plt.show()"
   ]
  },
  {
   "cell_type": "markdown",
   "metadata": {},
   "source": [
    "### Gradient Descent"
   ]
  },
  {
   "cell_type": "code",
   "execution_count": 3,
   "metadata": {},
   "outputs": [],
   "source": [
    "class MyGradientDescent():\n",
    "    def __init__(self, learning_rate):\n",
    "        self.learning_rate = learning_rate\n",
    "        self.w = 0\n",
    "        self.b = 0\n",
    "          \n",
    "    def fit(self, X, y, epochs = 100):\n",
    "        N = len(X)\n",
    "        history = []\n",
    "        \n",
    "        for e in range(epochs):\n",
    "            for i in range(N):\n",
    "                Xi = X[i, :]\n",
    "                yi = y[i, :]\n",
    "                \n",
    "                f = yi - (self.w * Xi + self.b)\n",
    "                                \n",
    "                self.w -= self.learning_rate * (-2 * Xi.dot(f.T).sum() / N)\n",
    "                self.b -= self.learning_rate * (-2 * f.sum() / N)\n",
    "\n",
    "            loss = mean_squared_error(y, (self.w * X + self.b))\n",
    "                                      \n",
    "            if e % 100 == 0:\n",
    "                print(f\"Epoch: {e}, Loss: {loss})\")\n",
    "            \n",
    "            history.append(loss)\n",
    "                                      \n",
    "        return history\n",
    "                \n",
    "    def predict(self, X):\n",
    "        return self.w * X + self.b"
   ]
  },
  {
   "cell_type": "code",
   "execution_count": 4,
   "metadata": {
    "scrolled": true
   },
   "outputs": [
    {
     "name": "stdout",
     "output_type": "stream",
     "text": [
      "Epoch: 0, Loss: 1.0129236386713547)\n",
      "Epoch: 100, Loss: 0.4836365268936342)\n",
      "Epoch: 200, Loss: 0.4717052013642623)\n",
      "Epoch: 300, Loss: 0.4714309129514397)\n",
      "Epoch: 400, Loss: 0.4714244612434121)\n",
      "Epoch: 500, Loss: 0.47142429776534295)\n",
      "Epoch: 600, Loss: 0.4714242918194498)\n",
      "Epoch: 700, Loss: 0.4714242913200272)\n",
      "Epoch: 800, Loss: 0.47142429124768254)\n",
      "Epoch: 900, Loss: 0.47142429123592733)\n"
     ]
    }
   ],
   "source": [
    "model = MyGradientDescent(learning_rate = 0.01)\n",
    "history = model.fit(X_train, y_train, 1000)\n",
    "\n",
    "predictions = model.predict(X_test)"
   ]
  },
  {
   "cell_type": "code",
   "execution_count": 5,
   "metadata": {},
   "outputs": [
    {
     "data": {
      "text/plain": [
       "[<matplotlib.lines.Line2D at 0x1fb79d6f748>]"
      ]
     },
     "execution_count": 5,
     "metadata": {},
     "output_type": "execute_result"
    },
    {
     "data": {
      "image/png": "[encoded data removed]",
      "text/plain": [
       "<Figure size 432x288 with 1 Axes>"
      ]
     },
     "metadata": {
      "needs_background": "light"
     },
     "output_type": "display_data"
    }
   ],
   "source": [
    "plt.plot(history, color='gray')"
   ]
  },
  {
   "cell_type": "code",
   "execution_count": 6,
   "metadata": {},
   "outputs": [
    {
     "data": {
      "image/png": "[encoded data removed]",
      "text/plain": [
       "<Figure size 432x288 with 1 Axes>"
      ]
     },
     "metadata": {
      "needs_background": "light"
     },
     "output_type": "display_data"
    }
   ],
   "source": [
    "plt.scatter(x = X_test, y = y_test, color='orange')\n",
    "values = np.column_stack((X_test, predictions))\n",
    "plt.plot(values[:, 0], values[:, 1], color='gray')\n",
    "\n",
    "plt.show()"
   ]
  },
  {
   "cell_type": "code",
   "execution_count": 7,
   "metadata": {
    "scrolled": true
   },
   "outputs": [
    {
     "data": {
      "text/html": [
       "<div>\n",
       "<style scoped>\n",
       "    .dataframe tbody tr th:only-of-type {\n",
       "        vertical-align: middle;\n",
       "    }\n",
       "\n",
       "    .dataframe tbody tr th {\n",
       "        vertical-align: top;\n",
       "    }\n",
       "\n",
       "    .dataframe thead th {\n",
       "        text-align: right;\n",
       "    }\n",
       "</style>\n",
       "<table border=\"1\" class=\"dataframe\">\n",
       "  <thead>\n",
       "    <tr style=\"text-align: right;\">\n",
       "      <th></th>\n",
       "      <th>Actual Value</th>\n",
       "      <th>Predictions</th>\n",
       "    </tr>\n",
       "  </thead>\n",
       "  <tbody>\n",
       "    <tr>\n",
       "      <th>0</th>\n",
       "      <td>-0.221246</td>\n",
       "      <td>-0.564486</td>\n",
       "    </tr>\n",
       "    <tr>\n",
       "      <th>1</th>\n",
       "      <td>-1.842924</td>\n",
       "      <td>-1.518349</td>\n",
       "    </tr>\n",
       "    <tr>\n",
       "      <th>2</th>\n",
       "      <td>-0.993992</td>\n",
       "      <td>-1.142846</td>\n",
       "    </tr>\n",
       "    <tr>\n",
       "      <th>3</th>\n",
       "      <td>-1.081062</td>\n",
       "      <td>-0.403710</td>\n",
       "    </tr>\n",
       "    <tr>\n",
       "      <th>4</th>\n",
       "      <td>-0.145059</td>\n",
       "      <td>0.339743</td>\n",
       "    </tr>\n",
       "    <tr>\n",
       "      <th>...</th>\n",
       "      <td>...</td>\n",
       "      <td>...</td>\n",
       "    </tr>\n",
       "    <tr>\n",
       "      <th>97</th>\n",
       "      <td>0.268523</td>\n",
       "      <td>0.311688</td>\n",
       "    </tr>\n",
       "    <tr>\n",
       "      <th>98</th>\n",
       "      <td>-0.330083</td>\n",
       "      <td>-0.643255</td>\n",
       "    </tr>\n",
       "    <tr>\n",
       "      <th>99</th>\n",
       "      <td>-0.286548</td>\n",
       "      <td>-0.387525</td>\n",
       "    </tr>\n",
       "    <tr>\n",
       "      <th>100</th>\n",
       "      <td>-0.776317</td>\n",
       "      <td>-0.944305</td>\n",
       "    </tr>\n",
       "    <tr>\n",
       "      <th>101</th>\n",
       "      <td>-0.090641</td>\n",
       "      <td>-0.032523</td>\n",
       "    </tr>\n",
       "  </tbody>\n",
       "</table>\n",
       "<p>102 rows × 2 columns</p>\n",
       "</div>"
      ],
      "text/plain": [
       "     Actual Value  Predictions\n",
       "0       -0.221246    -0.564486\n",
       "1       -1.842924    -1.518349\n",
       "2       -0.993992    -1.142846\n",
       "3       -1.081062    -0.403710\n",
       "4       -0.145059     0.339743\n",
       "..            ...          ...\n",
       "97       0.268523     0.311688\n",
       "98      -0.330083    -0.643255\n",
       "99      -0.286548    -0.387525\n",
       "100     -0.776317    -0.944305\n",
       "101     -0.090641    -0.032523\n",
       "\n",
       "[102 rows x 2 columns]"
      ]
     },
     "execution_count": 7,
     "metadata": {},
     "output_type": "execute_result"
    }
   ],
   "source": [
    "pd.DataFrame({\n",
    "    'Actual Value': y_test.flatten(),\n",
    "    'Predictions': predictions.flatten()\n",
    "})"
   ]
  },
  {
   "cell_type": "markdown",
   "metadata": {},
   "source": [
    "### Batch Gradient Descent"
   ]
  },
  {
   "cell_type": "code",
   "execution_count": 8,
   "metadata": {},
   "outputs": [],
   "source": [
    "class MyBatchGradientDescent():\n",
    "    def __init__(self, learning_rate):\n",
    "        self.learning_rate = learning_rate\n",
    "        self.w = 0\n",
    "        self.b = 0\n",
    "          \n",
    "    def fit(self, X, y, epochs = 100):\n",
    "        N = len(X)\n",
    "        history = []\n",
    "        \n",
    "        for e in range(epochs):\n",
    "            f = y - (self.w * X + self.b)\n",
    "    \n",
    "            self.w -= self.learning_rate * (-2 * X.dot(f.T).sum() / N)\n",
    "            self.b -= self.learning_rate * (-2 * f.sum() / N)\n",
    "        \n",
    "            loss = mean_squared_error(y, (self.w * X + self.b))\n",
    "                                      \n",
    "            if e % 100 == 0:\n",
    "                print(f\"Epoch: {e}, Loss: {loss})\")\n",
    "            \n",
    "            history.append(loss)\n",
    "                                      \n",
    "        return history\n",
    "                \n",
    "    def predict(self, X):\n",
    "        return self.w * X + self.b"
   ]
  },
  {
   "cell_type": "code",
   "execution_count": 9,
   "metadata": {
    "scrolled": true
   },
   "outputs": [
    {
     "name": "stdout",
     "output_type": "stream",
     "text": [
      "Epoch: 0, Loss: 1.0196646159305187)\n",
      "Epoch: 100, Loss: 0.6771864255196849)\n",
      "Epoch: 200, Loss: 0.6660374373514026)\n",
      "Epoch: 300, Loss: 0.6655591433109558)\n",
      "Epoch: 400, Loss: 0.6655383319190815)\n",
      "Epoch: 500, Loss: 0.6655374258171037)\n",
      "Epoch: 600, Loss: 0.6655373863654891)\n",
      "Epoch: 700, Loss: 0.6655373846477667)\n",
      "Epoch: 800, Loss: 0.6655373845729767)\n",
      "Epoch: 900, Loss: 0.6655373845697203)\n"
     ]
    }
   ],
   "source": [
    "model = MyBatchGradientDescent(learning_rate = 0.01)\n",
    "history = model.fit(X_train, y_train, 1000)\n",
    "\n",
    "predictions = model.predict(X_test)"
   ]
  },
  {
   "cell_type": "code",
   "execution_count": 10,
   "metadata": {},
   "outputs": [
    {
     "data": {
      "text/plain": [
       "[<matplotlib.lines.Line2D at 0x1fb79e7a6c8>]"
      ]
     },
     "execution_count": 10,
     "metadata": {},
     "output_type": "execute_result"
    },
    {
     "data": {
      "image/png": "[encoded data removed]",
      "text/plain": [
       "<Figure size 432x288 with 1 Axes>"
      ]
     },
     "metadata": {
      "needs_background": "light"
     },
     "output_type": "display_data"
    }
   ],
   "source": [
    "plt.plot(history, color='gray')"
   ]
  },
  {
   "cell_type": "code",
   "execution_count": 11,
   "metadata": {},
   "outputs": [
    {
     "data": {
      "image/png": "[encoded data removed]",
      "text/plain": [
       "<Figure size 432x288 with 1 Axes>"
      ]
     },
     "metadata": {
      "needs_background": "light"
     },
     "output_type": "display_data"
    }
   ],
   "source": [
    "plt.scatter(x = X_test, y = y_test, color='orange')\n",
    "values = np.column_stack((X_test, predictions))\n",
    "plt.plot(values[:, 0], values[:, 1], color='gray')\n",
    "\n",
    "plt.show()"
   ]
  },
  {
   "cell_type": "code",
   "execution_count": 12,
   "metadata": {
    "scrolled": true
   },
   "outputs": [
    {
     "data": {
      "text/html": [
       "<div>\n",
       "<style scoped>\n",
       "    .dataframe tbody tr th:only-of-type {\n",
       "        vertical-align: middle;\n",
       "    }\n",
       "\n",
       "    .dataframe tbody tr th {\n",
       "        vertical-align: top;\n",
       "    }\n",
       "\n",
       "    .dataframe thead th {\n",
       "        text-align: right;\n",
       "    }\n",
       "</style>\n",
       "<table border=\"1\" class=\"dataframe\">\n",
       "  <thead>\n",
       "    <tr style=\"text-align: right;\">\n",
       "      <th></th>\n",
       "      <th>Actual Value</th>\n",
       "      <th>Predictions</th>\n",
       "    </tr>\n",
       "  </thead>\n",
       "  <tbody>\n",
       "    <tr>\n",
       "      <th>0</th>\n",
       "      <td>-0.221246</td>\n",
       "      <td>-0.213164</td>\n",
       "    </tr>\n",
       "    <tr>\n",
       "      <th>1</th>\n",
       "      <td>-1.842924</td>\n",
       "      <td>-0.606138</td>\n",
       "    </tr>\n",
       "    <tr>\n",
       "      <th>2</th>\n",
       "      <td>-0.993992</td>\n",
       "      <td>-0.451438</td>\n",
       "    </tr>\n",
       "    <tr>\n",
       "      <th>3</th>\n",
       "      <td>-1.081062</td>\n",
       "      <td>-0.146928</td>\n",
       "    </tr>\n",
       "    <tr>\n",
       "      <th>4</th>\n",
       "      <td>-0.145059</td>\n",
       "      <td>0.159361</td>\n",
       "    </tr>\n",
       "    <tr>\n",
       "      <th>...</th>\n",
       "      <td>...</td>\n",
       "      <td>...</td>\n",
       "    </tr>\n",
       "    <tr>\n",
       "      <th>97</th>\n",
       "      <td>0.268523</td>\n",
       "      <td>0.147803</td>\n",
       "    </tr>\n",
       "    <tr>\n",
       "      <th>98</th>\n",
       "      <td>-0.330083</td>\n",
       "      <td>-0.245616</td>\n",
       "    </tr>\n",
       "    <tr>\n",
       "      <th>99</th>\n",
       "      <td>-0.286548</td>\n",
       "      <td>-0.140260</td>\n",
       "    </tr>\n",
       "    <tr>\n",
       "      <th>100</th>\n",
       "      <td>-0.776317</td>\n",
       "      <td>-0.369643</td>\n",
       "    </tr>\n",
       "    <tr>\n",
       "      <th>101</th>\n",
       "      <td>-0.090641</td>\n",
       "      <td>0.005994</td>\n",
       "    </tr>\n",
       "  </tbody>\n",
       "</table>\n",
       "<p>102 rows × 2 columns</p>\n",
       "</div>"
      ],
      "text/plain": [
       "     Actual Value  Predictions\n",
       "0       -0.221246    -0.213164\n",
       "1       -1.842924    -0.606138\n",
       "2       -0.993992    -0.451438\n",
       "3       -1.081062    -0.146928\n",
       "4       -0.145059     0.159361\n",
       "..            ...          ...\n",
       "97       0.268523     0.147803\n",
       "98      -0.330083    -0.245616\n",
       "99      -0.286548    -0.140260\n",
       "100     -0.776317    -0.369643\n",
       "101     -0.090641     0.005994\n",
       "\n",
       "[102 rows x 2 columns]"
      ]
     },
     "execution_count": 12,
     "metadata": {},
     "output_type": "execute_result"
    }
   ],
   "source": [
    "pd.DataFrame({\n",
    "    'Actual Value': y_test.flatten(),\n",
    "    'Predictions': predictions.flatten()\n",
    "})"
   ]
  },
  {
   "cell_type": "markdown",
   "metadata": {},
   "source": [
    "### Stochastic Gradient Descent"
   ]
  },
  {
   "cell_type": "markdown",
   "metadata": {},
   "source": [
    "#### Python Implementation"
   ]
  },
  {
   "cell_type": "code",
   "execution_count": 13,
   "metadata": {},
   "outputs": [],
   "source": [
    "class MySGD():\n",
    "    def __init__(self, learning_rate):\n",
    "        self.learning_rate = learning_rate\n",
    "        self.w = 0\n",
    "        self.b = 0\n",
    "    \n",
    "    def _get_batch(self, X, y, batch_size):\n",
    "        indexes = np.random.randint(len(X), size=batch_size)\n",
    "        return X[indexes,:], y[indexes,:]\n",
    "    \n",
    "    def fit(self, X, y, batch_size = 32, epochs = 100):\n",
    "        N = len(X)\n",
    "        history = []\n",
    "        \n",
    "        for e in range(epochs):\n",
    "            indexes = np.random.randint(N, size=batch_size)\n",
    "            X_batch, y_batch = self._get_batch(X, y, batch_size)\n",
    "            \n",
    "            f = y_batch - (self.w * X_batch + self.b)\n",
    "    \n",
    "            self.w -= self.learning_rate * (-2 * X_batch.dot(f.T).sum() / N)\n",
    "            self.b -= self.learning_rate * (-2 * f.sum() / N)\n",
    "        \n",
    "            loss = mean_squared_error(y_batch, (self.w * X_batch + self.b))\n",
    "                                      \n",
    "            if e % 100 == 0:\n",
    "                print(f\"Epoch: {e}, Loss: {loss})\")\n",
    "            \n",
    "            history.append(loss)\n",
    "                                      \n",
    "        return history\n",
    "                \n",
    "    def predict(self, X):\n",
    "        return self.w * X + self.b"
   ]
  },
  {
   "cell_type": "code",
   "execution_count": 14,
   "metadata": {
    "scrolled": true
   },
   "outputs": [
    {
     "name": "stdout",
     "output_type": "stream",
     "text": [
      "Epoch: 0, Loss: 0.6988926574320093)\n",
      "Epoch: 100, Loss: 0.9368940114609687)\n",
      "Epoch: 200, Loss: 0.38274490789600646)\n",
      "Epoch: 300, Loss: 0.4015009827201944)\n",
      "Epoch: 400, Loss: 0.6096862052672033)\n",
      "Epoch: 500, Loss: 0.4814101552252322)\n",
      "Epoch: 600, Loss: 0.3249126077150954)\n",
      "Epoch: 700, Loss: 0.6309038218016978)\n",
      "Epoch: 800, Loss: 0.6394188763053792)\n",
      "Epoch: 900, Loss: 0.6521754136964174)\n"
     ]
    }
   ],
   "source": [
    "model = MySGD(learning_rate = 0.01)\n",
    "history = model.fit(X_train, y_train, batch_size = 64, epochs = 1000)\n",
    "\n",
    "predictions = model.predict(X_test)"
   ]
  },
  {
   "cell_type": "code",
   "execution_count": 15,
   "metadata": {},
   "outputs": [
    {
     "data": {
      "text/plain": [
       "[<matplotlib.lines.Line2D at 0x1fb79f4ffc8>]"
      ]
     },
     "execution_count": 15,
     "metadata": {},
     "output_type": "execute_result"
    },
    {
     "data": {
      "image/png": "[encoded data removed]",
      "text/plain": [
       "<Figure size 432x288 with 1 Axes>"
      ]
     },
     "metadata": {
      "needs_background": "light"
     },
     "output_type": "display_data"
    }
   ],
   "source": [
    "plt.plot(history, color='gray')"
   ]
  },
  {
   "cell_type": "code",
   "execution_count": 16,
   "metadata": {},
   "outputs": [
    {
     "data": {
      "image/png": "[encoded data removed]",
      "text/plain": [
       "<Figure size 432x288 with 1 Axes>"
      ]
     },
     "metadata": {
      "needs_background": "light"
     },
     "output_type": "display_data"
    }
   ],
   "source": [
    "plt.scatter(x = X_test, y = y_test, color='orange')\n",
    "values = np.column_stack((X_test, predictions))\n",
    "plt.plot(values[:, 0], values[:, 1], color='gray')\n",
    "\n",
    "plt.show()"
   ]
  },
  {
   "cell_type": "code",
   "execution_count": 17,
   "metadata": {},
   "outputs": [
    {
     "data": {
      "text/html": [
       "<div>\n",
       "<style scoped>\n",
       "    .dataframe tbody tr th:only-of-type {\n",
       "        vertical-align: middle;\n",
       "    }\n",
       "\n",
       "    .dataframe tbody tr th {\n",
       "        vertical-align: top;\n",
       "    }\n",
       "\n",
       "    .dataframe thead th {\n",
       "        text-align: right;\n",
       "    }\n",
       "</style>\n",
       "<table border=\"1\" class=\"dataframe\">\n",
       "  <thead>\n",
       "    <tr style=\"text-align: right;\">\n",
       "      <th></th>\n",
       "      <th>Actual Value</th>\n",
       "      <th>Predictions</th>\n",
       "    </tr>\n",
       "  </thead>\n",
       "  <tbody>\n",
       "    <tr>\n",
       "      <th>0</th>\n",
       "      <td>-0.221246</td>\n",
       "      <td>-0.529533</td>\n",
       "    </tr>\n",
       "    <tr>\n",
       "      <th>1</th>\n",
       "      <td>-1.842924</td>\n",
       "      <td>-1.428056</td>\n",
       "    </tr>\n",
       "    <tr>\n",
       "      <th>2</th>\n",
       "      <td>-0.993992</td>\n",
       "      <td>-1.074338</td>\n",
       "    </tr>\n",
       "    <tr>\n",
       "      <th>3</th>\n",
       "      <td>-1.081062</td>\n",
       "      <td>-0.378085</td>\n",
       "    </tr>\n",
       "    <tr>\n",
       "      <th>4</th>\n",
       "      <td>-0.145059</td>\n",
       "      <td>0.322235</td>\n",
       "    </tr>\n",
       "    <tr>\n",
       "      <th>...</th>\n",
       "      <td>...</td>\n",
       "      <td>...</td>\n",
       "    </tr>\n",
       "    <tr>\n",
       "      <th>97</th>\n",
       "      <td>0.268523</td>\n",
       "      <td>0.295808</td>\n",
       "    </tr>\n",
       "    <tr>\n",
       "      <th>98</th>\n",
       "      <td>-0.330083</td>\n",
       "      <td>-0.603732</td>\n",
       "    </tr>\n",
       "    <tr>\n",
       "      <th>99</th>\n",
       "      <td>-0.286548</td>\n",
       "      <td>-0.362838</td>\n",
       "    </tr>\n",
       "    <tr>\n",
       "      <th>100</th>\n",
       "      <td>-0.776317</td>\n",
       "      <td>-0.887316</td>\n",
       "    </tr>\n",
       "    <tr>\n",
       "      <th>101</th>\n",
       "      <td>-0.090641</td>\n",
       "      <td>-0.028433</td>\n",
       "    </tr>\n",
       "  </tbody>\n",
       "</table>\n",
       "<p>102 rows × 2 columns</p>\n",
       "</div>"
      ],
      "text/plain": [
       "     Actual Value  Predictions\n",
       "0       -0.221246    -0.529533\n",
       "1       -1.842924    -1.428056\n",
       "2       -0.993992    -1.074338\n",
       "3       -1.081062    -0.378085\n",
       "4       -0.145059     0.322235\n",
       "..            ...          ...\n",
       "97       0.268523     0.295808\n",
       "98      -0.330083    -0.603732\n",
       "99      -0.286548    -0.362838\n",
       "100     -0.776317    -0.887316\n",
       "101     -0.090641    -0.028433\n",
       "\n",
       "[102 rows x 2 columns]"
      ]
     },
     "execution_count": 17,
     "metadata": {},
     "output_type": "execute_result"
    }
   ],
   "source": [
    "pd.DataFrame({\n",
    "    'Actual Value': y_test.flatten(),\n",
    "    'Predictions': predictions.flatten()\n",
    "})"
   ]
  },
  {
   "cell_type": "markdown",
   "metadata": {},
   "source": [
    "#### Using Sci-Kit Learn"
   ]
  },
  {
   "cell_type": "code",
   "execution_count": 18,
   "metadata": {},
   "outputs": [
    {
     "name": "stderr",
     "output_type": "stream",
     "text": [
      "G:\\Anaconda3\\lib\\site-packages\\sklearn\\utils\\validation.py:760: DataConversionWarning: A column-vector y was passed when a 1d array was expected. Please change the shape of y to (n_samples, ), for example using ravel().\n",
      "  y = column_or_1d(y, warn=True)\n"
     ]
    }
   ],
   "source": [
    "sgd_model = SGDRegressor(max_iter=10000, alpha=0.1)\n",
    "sgd_model.fit(X_train, y_train)\n",
    "\n",
    "sgd_predictions = sgd_model.predict(X_test)"
   ]
  },
  {
   "cell_type": "code",
   "execution_count": 19,
   "metadata": {},
   "outputs": [
    {
     "data": {
      "image/png": "[encoded data removed]",
      "text/plain": [
       "<Figure size 432x288 with 1 Axes>"
      ]
     },
     "metadata": {
      "needs_background": "light"
     },
     "output_type": "display_data"
    }
   ],
   "source": [
    "plt.scatter(x = X_test, y = y_test, color='orange')\n",
    "values = np.column_stack((X_test, sgd_predictions))\n",
    "plt.plot(values[:, 0], values[:, 1], color='gray')\n",
    "\n",
    "plt.show()"
   ]
  },
  {
   "cell_type": "code",
   "execution_count": 20,
   "metadata": {},
   "outputs": [
    {
     "data": {
      "text/html": [
       "<div>\n",
       "<style scoped>\n",
       "    .dataframe tbody tr th:only-of-type {\n",
       "        vertical-align: middle;\n",
       "    }\n",
       "\n",
       "    .dataframe tbody tr th {\n",
       "        vertical-align: top;\n",
       "    }\n",
       "\n",
       "    .dataframe thead th {\n",
       "        text-align: right;\n",
       "    }\n",
       "</style>\n",
       "<table border=\"1\" class=\"dataframe\">\n",
       "  <thead>\n",
       "    <tr style=\"text-align: right;\">\n",
       "      <th></th>\n",
       "      <th>Actual Value</th>\n",
       "      <th>SGD Model Prediction</th>\n",
       "    </tr>\n",
       "  </thead>\n",
       "  <tbody>\n",
       "    <tr>\n",
       "      <th>0</th>\n",
       "      <td>-0.221246</td>\n",
       "      <td>-0.509294</td>\n",
       "    </tr>\n",
       "    <tr>\n",
       "      <th>1</th>\n",
       "      <td>-1.842924</td>\n",
       "      <td>-1.373452</td>\n",
       "    </tr>\n",
       "    <tr>\n",
       "      <th>2</th>\n",
       "      <td>-0.993992</td>\n",
       "      <td>-1.033263</td>\n",
       "    </tr>\n",
       "    <tr>\n",
       "      <th>3</th>\n",
       "      <td>-1.081062</td>\n",
       "      <td>-0.363639</td>\n",
       "    </tr>\n",
       "    <tr>\n",
       "      <th>4</th>\n",
       "      <td>-0.145059</td>\n",
       "      <td>0.309896</td>\n",
       "    </tr>\n",
       "    <tr>\n",
       "      <th>...</th>\n",
       "      <td>...</td>\n",
       "      <td>...</td>\n",
       "    </tr>\n",
       "    <tr>\n",
       "      <th>97</th>\n",
       "      <td>0.268523</td>\n",
       "      <td>0.284479</td>\n",
       "    </tr>\n",
       "    <tr>\n",
       "      <th>98</th>\n",
       "      <td>-0.330083</td>\n",
       "      <td>-0.580656</td>\n",
       "    </tr>\n",
       "    <tr>\n",
       "      <th>99</th>\n",
       "      <td>-0.286548</td>\n",
       "      <td>-0.348976</td>\n",
       "    </tr>\n",
       "    <tr>\n",
       "      <th>100</th>\n",
       "      <td>-0.776317</td>\n",
       "      <td>-0.853393</td>\n",
       "    </tr>\n",
       "    <tr>\n",
       "      <th>101</th>\n",
       "      <td>-0.090641</td>\n",
       "      <td>-0.027360</td>\n",
       "    </tr>\n",
       "  </tbody>\n",
       "</table>\n",
       "<p>102 rows × 2 columns</p>\n",
       "</div>"
      ],
      "text/plain": [
       "     Actual Value  SGD Model Prediction\n",
       "0       -0.221246             -0.509294\n",
       "1       -1.842924             -1.373452\n",
       "2       -0.993992             -1.033263\n",
       "3       -1.081062             -0.363639\n",
       "4       -0.145059              0.309896\n",
       "..            ...                   ...\n",
       "97       0.268523              0.284479\n",
       "98      -0.330083             -0.580656\n",
       "99      -0.286548             -0.348976\n",
       "100     -0.776317             -0.853393\n",
       "101     -0.090641             -0.027360\n",
       "\n",
       "[102 rows x 2 columns]"
      ]
     },
     "execution_count": 20,
     "metadata": {},
     "output_type": "execute_result"
    }
   ],
   "source": [
    "pd.DataFrame({\n",
    "    'Actual Value': y_test.flatten(),\n",
    "    'SGD Model Prediction': sgd_predictions,\n",
    "})"
   ]
  }
 ],
 "metadata": {
  "kernelspec": {
   "display_name": "Python 3",
   "language": "python",
   "name": "python3"
  },
  "language_info": {
   "codemirror_mode": {
    "name": "ipython",
    "version": 3
   },
   "file_extension": ".py",
   "mimetype": "text/x-python",
   "name": "python",
   "nbconvert_exporter": "python",
   "pygments_lexer": "ipython3",
   "version": "3.7.6"
  }
 },
 "nbformat": 4,
 "nbformat_minor": 4
}
